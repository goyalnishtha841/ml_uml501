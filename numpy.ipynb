{
 "cells": [
  {
   "cell_type": "code",
   "execution_count": 1,
   "id": "0396385d",
   "metadata": {},
   "outputs": [],
   "source": [
    "import numpy as np"
   ]
  },
  {
   "cell_type": "code",
   "execution_count": 9,
   "id": "af4e0707",
   "metadata": {},
   "outputs": [
    {
     "name": "stdout",
     "output_type": "stream",
     "text": [
      "[5 4 6 3 2 1]\n",
      "[1 2 3 2 4 5 1 2 3]\n",
      "True\n",
      "[[ True  True]\n",
      " [ True  True]]\n",
      "1 (array([0, 5, 7, 8, 9]),)\n",
      "1 (array([0, 1, 2]),)\n",
      "45 [[14]\n",
      " [16]\n",
      " [15]] [[20  9 16]]\n",
      "176 [98.16835147 28.097044   49.73460452] [[ 0.4574917   0.34637121 -0.15017693]\n",
      " [ 0.28447814 -0.72784061 -0.4852124 ]\n",
      " [ 0.84248058  0.59184038  0.8614034 ]] [[ 0.02404141 -0.00911212 -0.00444671]\n",
      " [-0.01667882  0.02966905  0.0024785 ]\n",
      " [ 0.00631287 -0.01603732  0.01217379]] 137180.0000000001\n",
      "\n",
      "product:\n",
      " [[16 19]\n",
      " [26 31]]\n",
      "\n",
      "Covariance:\n",
      " [[0.66666667 1.        ]\n",
      " [1.         1.66666667]]\n"
     ]
    }
   ],
   "source": [
    "## ques 1\n",
    "# a\n",
    "arr = np.array([1, 2, 3, 6, 4, 5])\n",
    "reversed_arr = arr[::-1]\n",
    "print(reversed_arr)\n",
    "# b\n",
    "arr1 = np.array([[1, 2, 3], [2, 4, 5], [1, 2, 3]])\n",
    "flattened_arr1 = arr1.flatten()\n",
    "print(flattened_arr1)\n",
    "# c\n",
    "arr1 = np.array([[1, 2], [3, 4]])\n",
    "arr2 = np.array([[1, 2], [3, 4]])\n",
    "print(np.array_equal(arr1, arr2)) \n",
    "#(element-wise)\n",
    "print(arr1 == arr2) \n",
    "# d\n",
    "x = np.array([1,2,3,4,5,1,2,1,1,1])\n",
    "most_freq = np.bincount(x).argmax()\n",
    "indices = np.where(x == most_freq)\n",
    "print(most_freq, indices)\n",
    "y = np.array([1, 1, 1, 2, 3, 4, 2, 4, 3, 3])\n",
    "most_freq= np.bincount(y).argmax()\n",
    "indices = np.where(y == most_freq)\n",
    "print(most_freq, indices)\n",
    "# e\n",
    "gfg = np.matrix('[4, 1, 9; 12, 3, 1; 4, 5, 6]')\n",
    "total = np.sum(gfg)\n",
    "row_sum = np.sum(gfg, axis=1)\n",
    "col_sum = np.sum(gfg, axis=0)\n",
    "print(total, row_sum, col_sum)\n",
    "# f\n",
    "n_array = np.array([[55, 25, 15], [30, 44, 2], [11, 45, 77]])\n",
    "diag_sum = np.trace(n_array)\n",
    "eigen_values = np.linalg.eigvals(n_array)\n",
    "eigen_values, eigen_vectors = np.linalg.eig(n_array)\n",
    "inverse = np.linalg.inv(n_array)\n",
    "det = np.linalg.det(n_array)\n",
    "print(diag_sum, eigen_values, eigen_vectors, inverse, det)\n",
    "# g\n",
    "p1 = np.array([[1, 2], [2, 3]])\n",
    "q1 = np.array([[4, 5], [6, 7]])\n",
    "product1 = np.dot(p1, q1)\n",
    "print(\"\\nproduct:\\n\",product1)\n",
    "cov1 = np.cov(p1.flatten(), q1.flatten())\n",
    "print(\"\\nCovariance:\\n\", cov1)\n",
    "p2 = np.array([[1, 2], [2, 3], [4, 5]])\n",
    "q2= np.array([[4, 5, 1], [6, 7, 2]])"
   ]
  },
  {
   "cell_type": "code",
   "execution_count": 7,
   "id": "879247b6",
   "metadata": {},
   "outputs": [
    {
     "name": "stdout",
     "output_type": "stream",
     "text": [
      "\n",
      "product:\n",
      " [[16 19  5]\n",
      " [26 31  8]\n",
      " [46 55 14]]\n",
      "\n",
      "Covariance:\n",
      " [[2.16666667 0.23333333]\n",
      " [0.23333333 5.36666667]]\n"
     ]
    }
   ],
   "source": [
    "product2 = np.dot(p2, q2)\n",
    "print(\"\\nproduct:\\n\",product2)\n",
    "cov2 = np.cov(p2.flatten(), q2.flatten())\n",
    "print(\"\\nCovariance:\\n\", cov2)"
   ]
  },
  {
   "cell_type": "code",
   "execution_count": 10,
   "id": "c86f2e55",
   "metadata": {},
   "outputs": [
    {
     "name": "stdout",
     "output_type": "stream",
     "text": [
      "[[17 52]\n",
      " [13 62]] [[ 2 10  0 10 20  6]\n",
      " [ 3 15  0 15 30  9]\n",
      " [ 4 20  0 20 40 12]\n",
      " [ 3 15  0 15 30  9]\n",
      " [ 2 10  0 10 20  6]\n",
      " [ 9 45  0 45 90 27]] [[ 2  1]\n",
      " [ 2  5]\n",
      " [ 2  0]\n",
      " [ 2  5]\n",
      " [ 2 10]\n",
      " [ 2  3]\n",
      " [ 3  1]\n",
      " [ 3  5]\n",
      " [ 3  0]\n",
      " [ 3  5]\n",
      " [ 3 10]\n",
      " [ 3  3]\n",
      " [ 4  1]\n",
      " [ 4  5]\n",
      " [ 4  0]\n",
      " [ 4  5]\n",
      " [ 4 10]\n",
      " [ 4  3]\n",
      " [ 3  1]\n",
      " [ 3  5]\n",
      " [ 3  0]\n",
      " [ 3  5]\n",
      " [ 3 10]\n",
      " [ 3  3]\n",
      " [ 2  1]\n",
      " [ 2  5]\n",
      " [ 2  0]\n",
      " [ 2  5]\n",
      " [ 2 10]\n",
      " [ 2  3]\n",
      " [ 9  1]\n",
      " [ 9  5]\n",
      " [ 9  0]\n",
      " [ 9  5]\n",
      " [ 9 10]\n",
      " [ 9  3]]\n"
     ]
    }
   ],
   "source": [
    "# h\n",
    "x = np.array([[2, 3, 4], [3, 2, 9]])\n",
    "y = np.array([[1, 5, 0], [5, 10, 3]])\n",
    "inner = np.inner(x, y)\n",
    "outer = np.outer(x.flatten(), y.flatten())\n",
    "from itertools import product\n",
    "cartesian = np.array(list(product(x.flatten(), y.flatten())))\n",
    "print(inner, outer, cartesian)"
   ]
  },
  {
   "cell_type": "code",
   "execution_count": 12,
   "id": "ca6841e8",
   "metadata": {},
   "outputs": [
    {
     "name": "stdout",
     "output_type": "stream",
     "text": [
      "[[1 2 3]\n",
      " [4 5 6]]\n",
      "Flat percentiles: [-3.5 -0.5  2.5]\n",
      "Column percentiles:\n",
      " [[-2.75 -0.25 -3.75]\n",
      " [-1.5   1.5  -1.5 ]\n",
      " [-0.25  3.25  0.75]]\n",
      "Row percentiles:\n",
      " [[-0.5 -5. ]\n",
      " [ 1.  -4. ]\n",
      " [ 2.   0.5]]\n",
      "Mean (flat): -0.5\n",
      "Median (flat): -0.5\n",
      "Std Dev (flat): 3.8622100754188224\n",
      "Column mean: [-1.5  1.5 -1.5]\n",
      "Column median: [-1.5  1.5 -1.5]\n",
      "Column std: [2.5 3.5 4.5]\n",
      "Row mean: [ 0.66666667 -1.66666667]\n",
      "Row median: [ 1. -4.]\n",
      "Row std: [2.05480467 4.78423336]\n",
      "Floor: [-2. -2. -1.  0.  1.  1.  3.]\n",
      "Ceil: [-1. -1. -0.  1.  2.  2.  3.]\n",
      "Trunc: [-1. -1. -0.  0.  1.  1.  3.]\n",
      "Round: [-2. -2. -0.  0.  2.  2.  3.]\n"
     ]
    }
   ],
   "source": [
    "## ques 2\n",
    "array = np.array([[1, -2, 3], [-4, 5, -6]])\n",
    "abs_array = np.abs(array)\n",
    "print(abs_array)\n",
    "flat = array.flatten()\n",
    "percentiles_flat = np.percentile(flat, [25, 50, 75])\n",
    "print(\"Flat percentiles:\", percentiles_flat)\n",
    "percentiles_col = np.percentile(array, [25, 50, 75], axis=0)\n",
    "print(\"Column percentiles:\\n\", percentiles_col)\n",
    "percentiles_row = np.percentile(array, [25, 50, 75], axis=1)\n",
    "print(\"Row percentiles:\\n\", percentiles_row)\n",
    "print(\"Mean (flat):\", np.mean(flat))\n",
    "print(\"Median (flat):\", np.median(flat))\n",
    "print(\"Std Dev (flat):\", np.std(flat))\n",
    "print(\"Column mean:\", np.mean(array, axis=0))\n",
    "print(\"Column median:\", np.median(array, axis=0))\n",
    "print(\"Column std:\", np.std(array, axis=0))\n",
    "print(\"Row mean:\", np.mean(array, axis=1))\n",
    "print(\"Row median:\", np.median(array, axis=1))\n",
    "print(\"Row std:\", np.std(array, axis=1))\n",
    "a = np.array([-1.8, -1.6, -0.5, 0.5, 1.6, 1.8, 3.0])\n",
    "print(\"Floor:\", np.floor(a))        \n",
    "print(\"Ceil:\", np.ceil(a))          \n",
    "print(\"Trunc:\", np.trunc(a))         \n",
    "print(\"Round:\", np.round(a))        "
   ]
  },
  {
   "cell_type": "code",
   "execution_count": 13,
   "id": "df96d9ad",
   "metadata": {},
   "outputs": [
    {
     "name": "stdout",
     "output_type": "stream",
     "text": [
      "Sorted: [ 10  16  16  52  54  62 453]\n",
      "Indices of sorted: [0 3 4 1 5 2 6]\n",
      "Top 5 largest: [ 16  52  54  62 453]\n",
      "Bottom 4 smallest: [10 16 16 52]\n",
      "Integer elements: [1. 2. 3. 2.]\n",
      "Float elements: [1.2 2.2]\n"
     ]
    }
   ],
   "source": [
    "## ques 3\n",
    "array = np.array([10, 52, 62, 16, 16, 54, 453])\n",
    "sorted_array = np.sort(array)\n",
    "print(\"Sorted:\", sorted_array)\n",
    "sorted_indices = np.argsort(array)\n",
    "print(\"Indices of sorted:\", sorted_indices)\n",
    "print(\"Top 5 largest:\", sorted_array[-5:])\n",
    "print(\"Bottom 4 smallest:\", sorted_array[:4]) \n",
    "array = np.array([1.0, 1.2, 2.2, 2.0, 3.0, 2.0])\n",
    "int_elements = array[array == array.astype(int)]\n",
    "print(\"Integer elements:\", int_elements)\n",
    "float_elements = array[array != array.astype(int)]\n",
    "print(\"Float elements:\", float_elements)\n"
   ]
  },
  {
   "cell_type": "code",
   "execution_count": 15,
   "id": "47703e8a",
   "metadata": {},
   "outputs": [],
   "source": [
    "## ques 4\n",
    "from PIL import Image\n",
    "import numpy as np\n",
    "\n",
    "def img_to_array(path):\n",
    "    img = Image.open(path)\n",
    "    \n",
    "    if img.mode == 'RGB':\n",
    "        arr = np.array(img)\n",
    "        np.savetxt(\"image_rgb.txt\", arr.reshape(-1, 3), fmt='%d')\n",
    "    elif img.mode == 'L':  # Grayscale\n",
    "        arr = np.array(img)\n",
    "        np.savetxt(\"image_gray.txt\", arr, fmt='%d')\n",
    "    else:\n",
    "        raise ValueError(\"Unsupported image mode\")\n",
    "\n",
    "    print(\"Image saved as text.\")\n"
   ]
  },
  {
   "cell_type": "code",
   "execution_count": null,
   "id": "cc89ffa9",
   "metadata": {},
   "outputs": [],
   "source": [
    "# For grayscale:\n",
    "gray_array = np.loadtxt(\"image_gray.txt\")\n",
    "\n",
    "# For RGB (reshaped back to 3 channels, assuming original shape is known, say (h, w, 3)):\n",
    "rgb_flat = np.loadtxt(\"image_rgb.txt\")\n",
    "rgb_array = rgb_flat.reshape((height, width, 3))  # Replace with actual height and width\n"
   ]
  }
 ],
 "metadata": {
  "kernelspec": {
   "display_name": "base",
   "language": "python",
   "name": "python3"
  },
  "language_info": {
   "codemirror_mode": {
    "name": "ipython",
    "version": 3
   },
   "file_extension": ".py",
   "mimetype": "text/x-python",
   "name": "python",
   "nbconvert_exporter": "python",
   "pygments_lexer": "ipython3",
   "version": "3.12.7"
  }
 },
 "nbformat": 4,
 "nbformat_minor": 5
}
